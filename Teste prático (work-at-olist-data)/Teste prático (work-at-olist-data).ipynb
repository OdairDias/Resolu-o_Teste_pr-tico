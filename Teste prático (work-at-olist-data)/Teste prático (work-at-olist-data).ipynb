{
 "cells": [
  {
   "cell_type": "code",
   "execution_count": 1,
   "id": "2a0dd7d8",
   "metadata": {},
   "outputs": [],
   "source": [
    "import pandas as pd"
   ]
  },
  {
   "cell_type": "code",
   "execution_count": null,
   "id": "f3c02e88",
   "metadata": {},
   "outputs": [],
   "source": [
    "# ?Definindo problemas de negócio a serem resolvidos: \n",
    "# 1 -focar na logística e encontrar maneiras de otimizar os tempos de entrega.\n",
    "# 2 -categorias de produtos mais propensas à insatisfação do cliente.\n",
    "# 3 -Usar dados de geolocalização. Há diferenças no padrão de consumo por regiões?\n",
    "# 4- Quais são os Top 10 em vendas? Que tipo produtos eles vendem? Qual é o impacto deles para o negócio?\n",
    "# Quais relatórios utilizar? "
   ]
  },
  {
   "cell_type": "code",
   "execution_count": 3,
   "id": "a28bb5a4",
   "metadata": {},
   "outputs": [],
   "source": [
    "arquivos= pd.read_csv( 'olist_sellers_dataset.csv')"
   ]
  },
  {
   "cell_type": "code",
   "execution_count": 4,
   "id": "893bf458",
   "metadata": {},
   "outputs": [
    {
     "name": "stdout",
     "output_type": "stream",
     "text": [
      "                             seller_id  seller_zip_code_prefix  \\\n",
      "0     3442f8959a84dea7ee197c632cb2df15                   13023   \n",
      "1     d1b65fc7debc3361ea86b5f14c68d2e2                   13844   \n",
      "2     ce3ad9de960102d0677a81f5d0bb7b2d                   20031   \n",
      "3     c0f3eea2e14555b6faeea3dd58c1b1c3                    4195   \n",
      "4     51a04a8a6bdcb23deccc82b0b80742cf                   12914   \n",
      "...                                ...                     ...   \n",
      "3090  98dddbc4601dd4443ca174359b237166                   87111   \n",
      "3091  f8201cab383e484733266d1906e2fdfa                   88137   \n",
      "3092  74871d19219c7d518d0090283e03c137                    4650   \n",
      "3093  e603cf3fec55f8697c9059638d6c8eb5                   96080   \n",
      "3094  9e25199f6ef7e7c347120ff175652c3b                   12051   \n",
      "\n",
      "            seller_city seller_state  \n",
      "0              campinas           SP  \n",
      "1            mogi guacu           SP  \n",
      "2        rio de janeiro           RJ  \n",
      "3             sao paulo           SP  \n",
      "4     braganca paulista           SP  \n",
      "...                 ...          ...  \n",
      "3090            sarandi           PR  \n",
      "3091            palhoca           SC  \n",
      "3092          sao paulo           SP  \n",
      "3093            pelotas           RS  \n",
      "3094            taubate           SP  \n",
      "\n",
      "[3095 rows x 4 columns]\n"
     ]
    }
   ],
   "source": [
    "print(arquivos)"
   ]
  }
 ],
 "metadata": {
  "kernelspec": {
   "display_name": "Python 3 (ipykernel)",
   "language": "python",
   "name": "python3"
  },
  "language_info": {
   "codemirror_mode": {
    "name": "ipython",
    "version": 3
   },
   "file_extension": ".py",
   "mimetype": "text/x-python",
   "name": "python",
   "nbconvert_exporter": "python",
   "pygments_lexer": "ipython3",
   "version": "3.9.13"
  }
 },
 "nbformat": 4,
 "nbformat_minor": 5
}
